{
 "cells": [
  {
   "cell_type": "markdown",
   "id": "a1e6a90a",
   "metadata": {},
   "source": [
    "# 🌲 Visualizing Random Forest on Iris Dataset with PCA"
   ]
  },
  {
   "cell_type": "code",
   "execution_count": null,
   "id": "08512ad5",
   "metadata": {},
   "outputs": [],
   "source": [
    "\n",
    "from sklearn.datasets import load_iris\n",
    "from sklearn.ensemble import RandomForestClassifier\n",
    "from sklearn.tree import DecisionTreeClassifier\n",
    "from sklearn.decomposition import PCA\n",
    "import matplotlib.pyplot as plt\n",
    "import numpy as np\n",
    "from matplotlib.colors import ListedColormap\n",
    "\n",
    "# Load the Iris dataset\n",
    "iris = load_iris()\n",
    "X, y = iris.data, iris.target\n",
    "target_names = iris.target_names\n",
    "\n",
    "# Use PCA to reduce to 2D for visualization\n",
    "pca = PCA(n_components=2)\n",
    "X_pca = pca.fit_transform(X)\n"
   ]
  },
  {
   "cell_type": "code",
   "execution_count": null,
   "id": "13f54ad9",
   "metadata": {},
   "outputs": [],
   "source": [
    "\n",
    "# Helper function to plot decision boundaries\n",
    "def plot_decision_boundary(model, X, y, title=\"Decision Boundary\", ax=None):\n",
    "    h = 0.02\n",
    "    x_min, x_max = X[:, 0].min() - 1, X[:, 0].max() + 1\n",
    "    y_min, y_max = X[:, 1].min() - 1, X[:, 1].max() + 1\n",
    "    xx, yy = np.meshgrid(np.arange(x_min, x_max, h),\n",
    "                         np.arange(y_min, y_max, h))\n",
    "    Z = model.predict(np.c_[xx.ravel(), yy.ravel()])\n",
    "    Z = Z.reshape(xx.shape)\n",
    "\n",
    "    if ax is None:\n",
    "        ax = plt.gca()\n",
    "    cmap_light = ListedColormap(['#FFAAAA', '#AAFFAA', '#AAAAFF'])\n",
    "    cmap_bold = ListedColormap(['#FF0000', '#00CC00', '#0000FF'])\n",
    "    ax.contourf(xx, yy, Z, alpha=0.3, cmap=cmap_light)\n",
    "    scatter = ax.scatter(X[:, 0], X[:, 1], c=y, cmap=cmap_bold, edgecolor='k')\n",
    "    ax.set_title(title)\n",
    "    ax.set_xlabel(\"PCA Component 1\")\n",
    "    ax.set_ylabel(\"PCA Component 2\")\n",
    "    ax.grid(True)\n"
   ]
  },
  {
   "cell_type": "code",
   "execution_count": null,
   "id": "f8b4d123",
   "metadata": {},
   "outputs": [],
   "source": [
    "\n",
    "# Visualize a few bootstrapped decision trees\n",
    "n_trees = 3\n",
    "fig, axes = plt.subplots(1, n_trees, figsize=(15, 4))\n",
    "for i in range(n_trees):\n",
    "    indices = np.random.choice(len(X_pca), len(X_pca), replace=True)\n",
    "    X_sample = X_pca[indices]\n",
    "    y_sample = y[indices]\n",
    "    tree = DecisionTreeClassifier(max_depth=3)\n",
    "    tree.fit(X_sample, y_sample)\n",
    "    plot_decision_boundary(tree, X_sample, y_sample, title=f\"Tree {i + 1}\", ax=axes[i])\n",
    "\n",
    "fig.suptitle(\"Bootstrapped Trees on PCA-reduced Iris Data\")\n",
    "plt.tight_layout()\n",
    "plt.show()\n"
   ]
  },
  {
   "cell_type": "code",
   "execution_count": null,
   "id": "1ef2f708",
   "metadata": {},
   "outputs": [],
   "source": [
    "\n",
    "# Train Random Forest and visualize\n",
    "forest = RandomForestClassifier(n_estimators=100, max_depth=3, random_state=42)\n",
    "forest.fit(X_pca, y)\n",
    "\n",
    "plt.figure(figsize=(6, 5))\n",
    "plot_decision_boundary(forest, X_pca, y, title=\"Random Forest (Majority Voting)\")\n",
    "plt.tight_layout()\n",
    "plt.show()\n"
   ]
  }
 ],
 "metadata": {},
 "nbformat": 4,
 "nbformat_minor": 5
}
